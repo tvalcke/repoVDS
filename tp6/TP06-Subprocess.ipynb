{
 "cells": [
  {
   "cell_type": "markdown",
   "metadata": {},
   "source": [
    "# TP06 - Subprocess"
   ]
  },
  {
   "cell_type": "markdown",
   "metadata": {},
   "source": [
    "Dans le monde du développement Python, il est parfois nécessaire d'interagir avec la ligne de commande du système sur lequel vous travaillez. Cela peut être intéressant lorsque vous souhaitez afficher le contenu d'un dossier, créér un dossier, vérifier les permissions sur certains des fichiers, de pouvoir créér/modifier/démarrer des tâches de la cron table, etc...\n",
    "\n",
    "Il existe plusieurs manière de faire. Soit via la librairie **os** soit via la librairie **subprocess**. \n",
    "\n",
    "Aujourd'hui, nous travaillons en Python3, nous aborderons donc **subprocess**. En parallèle de ce tP, il est fortement recommandé que vous vous informiez sur la librairie **os**.\n",
    "\n",
    "\n",
    "D'après la documentation officielle, \n",
    "\n",
    "\"Le module subprocess vous permet de lancer de nouveaux processus, les connecter à des tubes d'entrée/sortie/erreur, et d'obtenir leurs codes de retour.\"\n",
    "\n",
    "Vous trouverez la documentation de ce module ici : https://docs.python.org/fr/3.8/library/subprocess.html\n"
   ]
  },
  {
   "cell_type": "markdown",
   "metadata": {},
   "source": [
    "La fonction la plus pratique de la librairie subprocess est la fonction **run()**.  Celle-ci repose sur la classe subprocess.  Il existe également la fonction Popen, qui est plus détaillée, mais **run()** suffit dans la plupart des cas.  "
   ]
  },
  {
   "cell_type": "markdown",
   "metadata": {},
   "source": [
    "```subprocess.run(args, *, stdin=None, input=None, stdout=None, stderr=None, capture_output=False, shell=False, cwd=None, timeout=None, check=False, encoding=None, errors=None, text=None, env=None, universal_newlines=None, **other_popen_kwargs)```"
   ]
  },
  {
   "cell_type": "markdown",
   "metadata": {},
   "source": [
    "Elle prend beaucoup de paramètres, la plupart facultatifs puisque possédant des valeurs par défaut.  Les paramètres positionnels **args** et suivants représentent le processus à exécuter ainsi que ses paramètres, un token par paramètre.  \n",
    "\n",
    "<p style=\"color:red;\"><b>Important</b> : \n",
    "<ul> <li>Selon le système sur lequel vous travaillez, les commandes shell seront différentes (ex : ls vs dir)</li>\n",
    "<li> Lorsque vous travaillez avec les subprocess sous Windows, il est nécessaire de définir l'attribut <b>shell</b> comme étant <b>True</b> lorsque vous utilisez les utilitaires 'built-in' de l'invite de commande (ex : dir). </li>\n",
    "</ul>\n",
    "    "
   ]
  },
  {
   "cell_type": "markdown",
   "metadata": {},
   "source": [
    "## 1. Première exécution\n",
    "\n",
    "**Exercice 1** : Lancez votre première commande avec subprocess pour lister le contenu du dossier courant, en utilisant la méthode subprocess.run()"
   ]
  },
  {
   "cell_type": "code",
   "execution_count": 2,
   "metadata": {},
   "outputs": [
    {
     "data": {
      "text/plain": [
       "CompletedProcess(args='ls', returncode=0)"
      ]
     },
     "execution_count": 2,
     "metadata": {},
     "output_type": "execute_result"
    }
   ],
   "source": [
    "import subprocess\n",
    "subprocess.run(\"ls\")"
   ]
  },
  {
   "cell_type": "markdown",
   "metadata": {},
   "source": [
    "Que constatez-vous ? Que vous retourne cette commande ? Est-ce intéressant ? "
   ]
  },
  {
   "cell_type": "markdown",
   "metadata": {},
   "source": [
    "## 2. Afficher le résultat de la commande\n",
    "\n",
    "Nous avons vu plus haut que la commande **run**, appelée telle qu'elle, renvoie un objet qui n'est pas immédiatement exploitable.  \n",
    "\n",
    "Avec la commande **run**, deux possibilités s'offrent en fait à vous pour obtenir les sorties de la commande exécutée : \n",
    "- soit utiliser **capture_output**, \n",
    "- soit définir le **stdout** et le **stderr**. \n",
    "\n",
    "Documentez-vous sur ces deux possibilités.  \n",
    "\n",
    "Notez également l'existance d'un paramètre **universal_newlines**, qui vous sera plus que probablement utile dans vos appels run. A quoi sert-il ? "
   ]
  },
  {
   "cell_type": "markdown",
   "metadata": {},
   "source": [
    "**Exercice 2 :**\n",
    "\n",
    "Reprenez votre exécution de commande de l'exercice 1, et assignez le résultat de votre appel à subprocess à une variable **my_sub**. \n",
    "- Affichez l'attribut **stdout** de **my_sub** en console.\n",
    "- Essayez sans, puis avec le paramètre **capture_output**.  \n",
    "- Testez également avec et sans **universal_newlines**\n",
    "- Essayez de rajouter un paramètre à votre commande (ex : ls -la sous Unix).  Quelle syntaxe faut-il utiliser pour cela? ATTENTION : la technique est différente selon que vous utilisez shell=True ou pas.  \n",
    "- Essayez à présent de lister un fichier qui n'existe pas dans votre répertoire courant (ex : ls tartempion.txt sous Unix, en faisant l'hypothèse que vous n'avez pas de fichier tartempion.txt).  Que contient **stdout** ? Où se trouve le message d'erreur?  "
   ]
  },
  {
   "cell_type": "code",
   "execution_count": null,
   "metadata": {},
   "outputs": [],
   "source": []
  },
  {
   "cell_type": "markdown",
   "metadata": {},
   "source": [
    "**Exercice 3 :** \n",
    "\n",
    "Essayez de faire la même chose, non plus en utilisant **capture_output**, mais à l'aide les paramètres stdout et stderr, en leur attribuant comme valeur la variable PIPE de la libraire subprocess. Que représente cette variable? "
   ]
  },
  {
   "cell_type": "code",
   "execution_count": null,
   "metadata": {},
   "outputs": [],
   "source": []
  },
  {
   "cell_type": "markdown",
   "metadata": {},
   "source": [
    "- Lorsque vous imprimez directement l'objet **my_sub**, que représente l'attribut **returncode** de l'objet affiché? A quoi cela peut-il vous servir? \n",
    "- Lorsque vous attribuez la valeur subprocess.PIPE à stdout et stderr du subprocess, ils sont redirigés sur le stdout et stderr du processus courrant (interpréteur python).  Comme nous l'avons vu plus tôt, les messages d'erreurs sont donc séparés de l'output normal.  Comment peut-on faire dans le cas de figure où on souhaite regrouper les deux types d'information (redirection 2>&1 en shell Unix)? "
   ]
  },
  {
   "cell_type": "markdown",
   "metadata": {},
   "source": [
    "## 3. Fournir un input à un processus\n",
    "\n",
    "Nous avons vu comment lire le résultat d'une commande, ou les erreurs lancées par cette dernière.  Nous pouvons également envoyer des données à un processus, en utilisant le paramètre input.  \n",
    "\n",
    "**Exercice 4 :**\n",
    "\n",
    "Testez l'envoi d'input sur le stdin d'un processus. Par exemple, en utilisant la commande **grep** sous Linux (**findstr** sous windows), affichez toutes les lignes définissant une interface réseau dans le texte ci-dessous (astuce : elles contiennent toutes le mot flag). "
   ]
  },
  {
   "cell_type": "code",
   "execution_count": 4,
   "metadata": {},
   "outputs": [],
   "source": [
    "my_text = \"\"\"\n",
    "    lo0: flags=8049<UP,LOOPBACK,RUNNING,MULTICAST> mtu 16384\n",
    "        options=1203<RXCSUM,TXCSUM,TXSTATUS,SW_TIMESTAMP>\n",
    "        inet 127.0.0.1 netmask 0xff000000 \n",
    "        inet6 ::1 prefixlen 128 \n",
    "        inet6 fe80::1%lo0 prefixlen 64 scopeid 0x1 \n",
    "        nd6 options=201<PERFORMNUD,DAD>\n",
    "    gif0: flags=8010<POINTOPOINT,MULTICAST> mtu 1280\n",
    "    stf0: flags=0<> mtu 1280\n",
    "    ap1: flags=8802<BROADCAST,SIMPLEX,MULTICAST> mtu 1500\n",
    "        options=400<CHANNEL_IO>\n",
    "        ether 3e:22:fb:60:4a:5f \n",
    "        media: autoselect\n",
    "        status: inactive\n",
    "    en0: flags=8863<UP,BROADCAST,SMART,RUNNING,SIMPLEX,MULTICAST> mtu 1500\n",
    "        options=400<CHANNEL_IO>\n",
    "        ether 3c:22:fb:60:4a:5f \n",
    "        nd6 options=201<PERFORMNUD,DAD>\n",
    "        media: autoselect (<unknown type>)\n",
    "        status: inactive\n",
    "    en2: flags=8963<UP,BROADCAST,SMART,RUNNING,PROMISC,SIMPLEX,MULTICAST> mtu 1500\n",
    "        options=460<TSO4,TSO6,CHANNEL_IO>\n",
    "        ether d2:c0:77:f9:9c:00 \n",
    "        media: autoselect <full-duplex>\n",
    "        status: inactive\"\"\""
   ]
  },
  {
   "cell_type": "code",
   "execution_count": null,
   "metadata": {},
   "outputs": [],
   "source": []
  },
  {
   "cell_type": "markdown",
   "metadata": {},
   "source": [
    "## 4. Pipe entre processus\n",
    "\n",
    "Puisqu'il est possible de rediriger les flux d'entrées/sortie stdin, stdout et stderr, il est de la même façon possible de connecter différents processus entre eux.  \n",
    "\n",
    "**Exercice 5 :**\n",
    "\n",
    "Essayez à présent de chaîner deux appels à la fonction run() : \n",
    "- Un premier, appelé **ifconfig**, appelle la commande ifconfig (ipconfig sous Windows). Il redirige sa sortie standard vers un pipe. \n",
    "- Un second, appelé **grep**, va utiliser en input le stdout de la commande ifconfig, et la filtrer pour ne garder que la ligne correspondant à votre interface réseau principale (en0, eth0, ...). \n",
    "\n",
    "\n"
   ]
  },
  {
   "cell_type": "code",
   "execution_count": null,
   "metadata": {},
   "outputs": [],
   "source": []
  },
  {
   "cell_type": "markdown",
   "metadata": {},
   "source": [
    "## 5. Exercices\n",
    "\n",
    "Nous vous proposons ci-dessous quelques exercices supplémentaires pour vous entraîner avec **subprocess**.  Certains mentionnent textuellement des commandes Unix.  Si vous travaillez sous Windows, remplacez-les par les commandes équivalentes.  Vous pouvez également essayer de travailler avec le WSL (Windows Subsystem for Linux) si vous êtes à l'aise avec ça.  \n",
    "\n",
    "**Exercice 6 :**\n",
    "\n",
    "Essayez de lancer un programme quelconque (éditeur de texte, navigateur, ...) depuis votre script Python. Transmettez-lui un paramètre (texte à afficher dans un nouveau document, URL à atteindre, ...)"
   ]
  },
  {
   "cell_type": "code",
   "execution_count": null,
   "metadata": {},
   "outputs": [],
   "source": []
  },
  {
   "cell_type": "markdown",
   "metadata": {},
   "source": [
    "**Exercice 7 :**\n",
    "\n",
    "Utilisez le module subprocess pour compter le nombre de mot du fichier lorem_ipsum.txt (créez-le vous-même et remplissez le d'un contenu quelconque).  Faites-le de deux manières : \n",
    "- En une seule commande avec shell=True (commande cat lorem_ipsum.txt | grep wc)\n",
    "- Sans shell=True mais avec la combinaison de deux appels de commandes séparés (cat lorem ipsum et wc) "
   ]
  },
  {
   "cell_type": "code",
   "execution_count": null,
   "metadata": {},
   "outputs": [],
   "source": []
  },
  {
   "cell_type": "markdown",
   "metadata": {},
   "source": [
    "**Exercice 8 :**\n",
    "\n",
    "Exécutez un traceroute, puis récupérez les IPs des différents sauts dans une liste.  "
   ]
  },
  {
   "cell_type": "code",
   "execution_count": null,
   "metadata": {
    "scrolled": true
   },
   "outputs": [],
   "source": []
  },
  {
   "cell_type": "markdown",
   "metadata": {},
   "source": [
    "**Exercice 9 :**\n",
    "\n",
    "[Bonus] Reprenez l'exercice précédent, et faites en sorte d'afficher les IP au fur et à mesure de l'exécution du traceroute, et pas à la fin.  \n",
    "\n",
    "Conseil : Cette fois, vous ne pourrez plus utiliser **subprocess.run()**, car il ne permet d'accéder au résultat qu'une fois le processus terminé. Par contre, avec la classe **subprocess.Popen**, l'exécution est non-bloquante, et on peut donc afficher les éléments de stdout au fur et à mesure. "
   ]
  },
  {
   "cell_type": "code",
   "execution_count": null,
   "metadata": {},
   "outputs": [],
   "source": []
  }
 ],
 "metadata": {
  "kernelspec": {
   "display_name": "Python 3",
   "language": "python",
   "name": "python3"
  },
  "language_info": {
   "codemirror_mode": {
    "name": "ipython",
    "version": 3
   },
   "file_extension": ".py",
   "mimetype": "text/x-python",
   "name": "python",
   "nbconvert_exporter": "python",
   "pygments_lexer": "ipython3",
   "version": "3.8.3"
  }
 },
 "nbformat": 4,
 "nbformat_minor": 4
}
